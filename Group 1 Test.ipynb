{
 "cells": [
  {
   "cell_type": "markdown",
   "metadata": {},
   "source": [
    "## HL7 Final Project\n",
    "### 1. Find the segment within the message \n",
    "### 2. Write a function that splits the segment into fields ( | )\n",
    "### 3. Fields into components (^)\n",
    "### 4. Componets into subcomponents (~)\n",
    "### 5. Subcomponents into continuations (&)"
   ]
  },
  {
   "cell_type": "markdown",
   "metadata": {},
   "source": [
    "#### we need to end up with a 5 dimensional array in the end. "
   ]
  },
  {
   "cell_type": "code",
   "execution_count": 61,
   "metadata": {},
   "outputs": [],
   "source": [
    "def segs(filename):\n",
    "    with open(filename, 'r') as f:\n",
    "        lines = f.readlines()\n",
    "        return lines\n",
    "        \n",
    "        \n",
    "def fields(segments):\n",
    "    for seg in segments:\n",
    "        seg.split(\"|\")\n",
    "        print (segs)\n",
    "    \n",
    "def components(fields):\n",
    "    for comp in fields:\n",
    "        comp.split(\"^\")\n",
    "        print (comp)    \n",
    "    \n",
    "def subcomp(components):\n",
    "    for sub in components:\n",
    "        sub.split(\"~\")\n",
    "        return sub\n",
    "\n",
    "def cont(subcomp):\n",
    "    for cont in subcomp:\n",
    "        cont.split(\"&\")\n",
    "        return cont"
   ]
  },
  {
   "cell_type": "code",
   "execution_count": 62,
   "metadata": {},
   "outputs": [],
   "source": [
    "segments = segs(\"./test.hl7\") ##create a dummy file in the same directory\n",
    "    "
   ]
  },
  {
   "cell_type": "code",
   "execution_count": 63,
   "metadata": {},
   "outputs": [
    {
     "data": {
      "text/plain": [
       "['seg1|field1|field2|field3|field4\\n',\n",
       " 'MSH|~^\\\\&|||1234567890|||110119980102|Sener, Inc|2.5|P||\\n']"
      ]
     },
     "execution_count": 63,
     "metadata": {},
     "output_type": "execute_result"
    }
   ],
   "source": [
    "segments"
   ]
  },
  {
   "cell_type": "code",
   "execution_count": 71,
   "metadata": {},
   "outputs": [
    {
     "data": {
      "text/plain": [
       "'MSH|~^\\\\&|||1234567890|||110119980102|Sener, Inc|2.5|P||\\n'"
      ]
     },
     "execution_count": 71,
     "metadata": {},
     "output_type": "execute_result"
    }
   ],
   "source": [
    "segments[1]"
   ]
  },
  {
   "cell_type": "code",
   "execution_count": 56,
   "metadata": {},
   "outputs": [
    {
     "name": "stdout",
     "output_type": "stream",
     "text": [
      "<function segs at 0x110054f28>\n",
      "<function segs at 0x110054f28>\n"
     ]
    }
   ],
   "source": [
    "splitfields = fields(segments)\n",
    "splitfields"
   ]
  },
  {
   "cell_type": "code",
   "execution_count": 54,
   "metadata": {},
   "outputs": [
    {
     "data": {
      "text/plain": [
       "'seg1|field1|field2|field3|field4\\n'"
      ]
     },
     "execution_count": 54,
     "metadata": {},
     "output_type": "execute_result"
    }
   ],
   "source": [
    "test = components(segments)\n",
    "test"
   ]
  },
  {
   "cell_type": "code",
   "execution_count": 55,
   "metadata": {},
   "outputs": [
    {
     "data": {
      "text/plain": [
       "'seg1|field1|field2|field3|field4\\n'"
      ]
     },
     "execution_count": 55,
     "metadata": {},
     "output_type": "execute_result"
    }
   ],
   "source": [
    "test2 = subcomp(segments)\n",
    "test2"
   ]
  },
  {
   "cell_type": "code",
   "execution_count": null,
   "metadata": {},
   "outputs": [],
   "source": []
  }
 ],
 "metadata": {
  "kernelspec": {
   "display_name": "Python 3",
   "language": "python",
   "name": "python3"
  },
  "language_info": {
   "codemirror_mode": {
    "name": "ipython",
    "version": 3
   },
   "file_extension": ".py",
   "mimetype": "text/x-python",
   "name": "python",
   "nbconvert_exporter": "python",
   "pygments_lexer": "ipython3",
   "version": "3.6.6"
  }
 },
 "nbformat": 4,
 "nbformat_minor": 2
}
